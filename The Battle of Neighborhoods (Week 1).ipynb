{
    "cells": [
        {
            "cell_type": "markdown",
            "metadata": {
                "collapsed": true
            },
            "source": "# Capstone Project - The Battle of Neighborhoods (Week 1)"
        },
        {
            "cell_type": "markdown",
            "metadata": {},
            "source": "__1.\tIntroduction: Business Problem__<br>\n<br>\nStudies have shown that children under the age of 7 possess an innate ease of learning a secondary language; when children learn a secondary language early in their lives, they use the same part of their brains that is used to acquire their native language. In addition, early secondary language acquisition has proven to provide many cognitive and social benefits that will last a lifetime.<br>\n<br>\nBased on these studies, Company ABC has developed a very successful business model, which consists in offering bilingual (English and Spanish) daycare services for children aged between 0 and 7 years. The company has already opened several profitable bilingual daycares in many cities across the United States and because almost 29% of Chicago\u2019s population is \u201cHispanic or Latino\u201d, the company has made the decision to open up a new daycare in Chicago as it seeks to expand its business into the city.<br>\n<br>\nCompany ABC is interested in knowing what would be the best location (neighborhood and zip code) for opening their new bilingual child daycare in the City of Chicago. As a result, the company has ordered the present study, which will help its business expansion team better understand the different residential neighborhoods within the city of Chicago, and ultimately select the best possible location for their new bilingual child daycare."
        },
        {
            "cell_type": "markdown",
            "metadata": {},
            "source": "__2.\tData__<br>\n<br>\nThe following datasets will be used to assess the feasibility of opening a new bilingual child daycare in each one of the different neighborhoods within the city of Chicago, with the ultimate purpose of selecting the right location for the business:\n\n__1.\tThe venues dataset__ will be obtained as a .json file from Foursquare and it will be processed into a pandas data frame that will be used as follows:<br>\n> a. Since a good part of the company\u2019s existing customers are from Hispanic or Latino origin, it would be useful to know which neighborhoods in Chicago have the highest number of Hispanic or Latino communities. For this, we will cluster neighborhoods by venue categories and analyze how common are Latino and Hispanic venues (such as mexican restaurants, latin-american food markets, etc) in the different neighborhoods within the city of Chicago.<br>\n<br>\n    b. The venue category clusters will be analyzed to determine which neighborhoods have the highest number of elementary schools, secondary schools, daycares or any other type of child education venues. The results will yield some insights into where families with small children could be living.<br>\n<br>\n    c. The venue category clusters will be analyzed to determine which neighborhoods have the highest number of family friendly venues such as parks, zoos, aquariums, toy stores, in order to also evaluate where families with small children could be living."
        },
        {
            "cell_type": "markdown",
            "metadata": {},
            "source": "__2.\tThe 2018 income tax dataset__ from the United States Internal Revenue Service (IRS) will be obtained from https://www.irs.gov/pub/irs-soi/18zpallnoagi.csv. This data set provides detailed household income and some useful demographic information by zip code. This data set will be downloaded as a .csv file and read into a pandas data frame. Since the file contains data for all zip codes in the United States, it will need to be filtered down to the city of Chicago only. This dataset will be used as follows:<br>\n>a.\tThe tax return data contains useful information regarding the number of dependents per household. This data will be used to find out where families with child dependents actually live, which is the type of customer that Company ABC is after. This will yield some interesting insights into where families with children actually live and the results can be cross-checked with the clustering analysis of the venues dataset to support the final recommendation.<br>\n<br>\nb.\tAnother important metric is household income. Child day care is not cheap, and families who can afford it need to make a reasonable amount of income. The average income per household per zip code will need to be analyzed to determine whether families in specific neighborhoods will be able to afford bilingual child care."
        },
        {
            "cell_type": "markdown",
            "metadata": {},
            "source": "The information extracted from the two mentioned datasets will be used to calculate the ratio of daycare venues per children in each point of interest. This ratio will help us identify the neighborhoods with the shortest supply of daycare venues in relation to the total number of children living in the area (estimated). Selecting a location with a low ratio of daycare venues per children will help us ensure that the new location does not already have an oversupply of child daycare venues.<br>\n<br>\nMachine learning algorithms will be used to cluster different neighborhoods based on venue categories. Other machine learning algorithms such as regression and classifier models could also be used to find correlation between variables and support the final recommendation.<br>\n<br>\nDifferent types of maps will be used to visualize the above mentioned analyses and comparisons. Heat maps will be used to show the different levels of income per household per zip code, as well as the different levels of children per household per zip code. Additionally, different points will be placed on top of the maps to precisely show where the resulting venue clusters are located.<br>"
        }
    ],
    "metadata": {
        "kernelspec": {
            "display_name": "Python 3.7",
            "language": "python",
            "name": "python3"
        },
        "language_info": {
            "codemirror_mode": {
                "name": "ipython",
                "version": 3
            },
            "file_extension": ".py",
            "mimetype": "text/x-python",
            "name": "python",
            "nbconvert_exporter": "python",
            "pygments_lexer": "ipython3",
            "version": "3.7.9"
        }
    },
    "nbformat": 4,
    "nbformat_minor": 1
}