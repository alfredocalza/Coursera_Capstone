{
  "nbformat": 4,
  "nbformat_minor": 0,
  "metadata": {
    "colab": {
      "name": "IBM Applied Data Science Capstone Project - 1.ipynb",
      "provenance": [],
      "authorship_tag": "ABX9TyOLNLu2MA3gHvorsHruP94C",
      "include_colab_link": true
    },
    "kernelspec": {
      "name": "python3",
      "display_name": "Python 3"
    }
  },
  "cells": [
    {
      "cell_type": "markdown",
      "metadata": {
        "id": "view-in-github",
        "colab_type": "text"
      },
      "source": [
        "<a href=\"https://colab.research.google.com/github/alfredocalza/Coursera_Capstone/blob/main/IBM_Applied_Data_Science_Capstone_Project_1.ipynb\" target=\"_parent\"><img src=\"https://colab.research.google.com/assets/colab-badge.svg\" alt=\"Open In Colab\"/></a>"
      ]
    },
    {
      "cell_type": "markdown",
      "metadata": {
        "id": "jfhO8Kcj2uqm"
      },
      "source": [
        "# Applied Data Science Capstone Projcect\r\n",
        "This notebook will mainly be used for the IBM Applied Data Science Capstone Project, which is the final assignment required for obtaining the IBM Data Science Professional Certificate."
      ]
    },
    {
      "cell_type": "code",
      "metadata": {
        "colab": {
          "base_uri": "https://localhost:8080/"
        },
        "id": "hn3f5nKM2xpZ",
        "outputId": "1bc76cd4-086f-41bc-f1b0-bf542bea655b"
      },
      "source": [
        "import pandas as pd\r\n",
        "import numpy as np\r\n",
        "print('Hello Capstone Project Course!')"
      ],
      "execution_count": 3,
      "outputs": [
        {
          "output_type": "stream",
          "text": [
            "Hello Capstone Project Course!\n"
          ],
          "name": "stdout"
        }
      ]
    }
  ]
}